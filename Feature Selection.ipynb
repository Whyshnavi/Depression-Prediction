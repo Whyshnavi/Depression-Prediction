{
  "nbformat": 4,
  "nbformat_minor": 0,
  "metadata": {
    "colab": {
      "provenance": []
    },
    "kernelspec": {
      "name": "python3",
      "display_name": "Python 3"
    },
    "language_info": {
      "name": "python"
    }
  },
  "cells": [
    {
      "cell_type": "code",
      "execution_count": 1,
      "metadata": {
        "id": "3RKDMtN2EUDh"
      },
      "outputs": [],
      "source": [
        "import pandas as pd\n",
        "from sklearn.model_selection import train_test_split\n",
        "from sklearn.linear_model import LogisticRegression\n",
        "from sklearn.tree import DecisionTreeClassifier\n",
        "from sklearn.svm import SVC\n",
        "from sklearn.ensemble import RandomForestClassifier\n",
        "from sklearn.metrics import accuracy_score\n",
        "import numpy as np"
      ]
    },
    {
      "cell_type": "code",
      "source": [
        "# Load the pre-processed dataset\n",
        "df = pd.read_csv('/content/final_depression_dataset_1.csv')"
      ],
      "metadata": {
        "id": "E9rKVGi3Ebkz"
      },
      "execution_count": 52,
      "outputs": []
    },
    {
      "cell_type": "code",
      "source": [
        "# Convert categorical columns to numerical\n",
        "hour_mapping = {'Less than 5 hours': 4.0, '5-6 hours': 5.0, '7-8 hours': 7.0, 'More than 8 hours': 9.0}\n",
        "diet_mapping = {'Unhealthy': 1, 'Moderate': 2, 'Healthy': 3}\n",
        "yes_no_mapping = {'Yes': 1, 'No': 0}\n",
        "\n",
        "df['Work/Study Hours'] = df['Work/Study Hours'].map(hour_mapping)\n",
        "df['Dietary Habits'] = df['Dietary Habits'].map(diet_mapping)\n",
        "df['Family History of Mental Illness'] = df['Family History of Mental Illness'].map(yes_no_mapping)\n",
        "df['Depression'] = df['Depression'].map(yes_no_mapping)"
      ],
      "metadata": {
        "id": "7_hR8pjEEcHm"
      },
      "execution_count": 53,
      "outputs": []
    },
    {
      "cell_type": "code",
      "source": [
        "# Define features and target\n",
        "features = ['Age', 'Work/Study Hours', 'Financial Stress', 'Family History of Mental Illness',\n",
        "            'Academic Pressure', 'Work Pressure', 'CGPA', 'Study Satisfaction', 'Job Satisfaction',\n",
        "            'Sleep Duration', 'Dietary Habits']\n",
        "target = 'Depression'"
      ],
      "metadata": {
        "id": "nkUGM_2VEekb"
      },
      "execution_count": 54,
      "outputs": []
    },
    {
      "cell_type": "code",
      "source": [
        "# Handle missing or non-numeric values\n",
        "numerical_cols_to_impute_with_mean = ['Age', 'Financial Stress', 'CGPA', 'Sleep Duration']\n",
        "categorical_cols_to_impute_with_mode = ['Work/Study Hours', 'Family History of Mental Illness', 'Academic Pressure',\n",
        "                                        'Work Pressure', 'Study Satisfaction', 'Job Satisfaction', 'Dietary Habits']\n",
        "\n",
        "\n",
        "for column in numerical_cols_to_impute_with_mean:\n",
        "    df[column] = pd.to_numeric(df[column], errors='coerce')\n",
        "    if df[column].isnull().any():\n",
        "        mean_value = df[column].mean()\n",
        "        df[column] = df[column].fillna(mean_value)\n",
        "        print(f\"Info: Filled missing values in column '{column}' with the mean ({mean_value:.2f}).\")\n",
        "\n",
        "for column in categorical_cols_to_impute_with_mode:\n",
        "    df[column] = pd.to_numeric(df[column], errors='coerce')\n",
        "    if df[column].isnull().any():\n",
        "        mode_result = df[column].mode()\n",
        "        if not mode_result.empty:\n",
        "            mode_value = mode_result[0]\n",
        "            df[column] = df[column].fillna(mode_value)\n",
        "            print(f\"Info: Filled missing values in column '{column}' with the mode ({mode_value}).\")\n",
        "        else:\n",
        "            print(f\"Warning: Could not calculate mode for column '{column}'. Skipping imputation for this column.\")\n",
        "\n",
        "\n",
        "# Handle missing values in the target variable 'Depression'\n",
        "if df[target].isnull().any():\n",
        "    # For the target variable, dropping rows with missing values is often preferred\n",
        "    df.dropna(subset=[target], inplace=True)\n",
        "    print(f\"Info: Dropped rows with missing values in the target variable '{target}'.\")"
      ],
      "metadata": {
        "colab": {
          "base_uri": "https://localhost:8080/"
        },
        "id": "fBTsa3ChEhY6",
        "outputId": "11c88723-20db-463c-e930-15e5519bf528"
      },
      "execution_count": 55,
      "outputs": [
        {
          "output_type": "stream",
          "name": "stdout",
          "text": [
            "Info: Filled missing values in column 'CGPA' with the mean (7.57).\n",
            "Info: Filled missing values in column 'Sleep Duration' with the mean (nan).\n",
            "Warning: Could not calculate mode for column 'Work/Study Hours'. Skipping imputation for this column.\n",
            "Info: Filled missing values in column 'Academic Pressure' with the mode (3.0).\n",
            "Info: Filled missing values in column 'Work Pressure' with the mode (5.0).\n",
            "Info: Filled missing values in column 'Study Satisfaction' with the mode (4.0).\n",
            "Info: Filled missing values in column 'Job Satisfaction' with the mode (2.0).\n"
          ]
        }
      ]
    },
    {
      "cell_type": "code",
      "source": [
        "# Load the original dataset and debug\n",
        "try:\n",
        "    df = pd.read_csv('final_depression_dataset_1.csv')\n",
        "    print(\"Dataset loaded successfully. Shape:\", df.shape)\n",
        "    print(\"First few rows:\\n\", df.head())\n",
        "    print(\"Unique values in 'Work/Study Hours':\", df['Work/Study Hours'].unique())\n",
        "except FileNotFoundError:\n",
        "    print(\"Error: 'final_depression_dataset_1.csv' not found. Please check the file path.\")\n",
        "    exit()\n",
        "except Exception as e:\n",
        "    print(f\"Error loading dataset: {e}\")\n",
        "    exit()"
      ],
      "metadata": {
        "colab": {
          "base_uri": "https://localhost:8080/"
        },
        "id": "rW26RS8xKRSt",
        "outputId": "da7865b5-ee4b-4ce3-83b7-1fe0d6cb4663"
      },
      "execution_count": 62,
      "outputs": [
        {
          "output_type": "stream",
          "name": "stdout",
          "text": [
            "Dataset loaded successfully. Shape: (2556, 19)\n",
            "First few rows:\n",
            "       Name  Gender  Age       City Working Professional or Student  \\\n",
            "0    Pooja  Female   37  Ghaziabad            Working Professional   \n",
            "1  Reyansh    Male   60     Kalyan            Working Professional   \n",
            "2    Manvi  Female   42     Bhopal            Working Professional   \n",
            "3     Isha  Female   44      Thane            Working Professional   \n",
            "4    Aarav    Male   48     Indore            Working Professional   \n",
            "\n",
            "          Profession  Academic Pressure  Work Pressure  CGPA  \\\n",
            "0            Teacher                NaN            2.0   NaN   \n",
            "1  Financial Analyst                NaN            4.0   NaN   \n",
            "2            Teacher                NaN            2.0   NaN   \n",
            "3            Teacher                NaN            3.0   NaN   \n",
            "4     UX/UI Designer                NaN            4.0   NaN   \n",
            "\n",
            "   Study Satisfaction  Job Satisfaction Sleep Duration Dietary Habits Degree  \\\n",
            "0                 NaN               4.0      7-8 hours       Moderate     MA   \n",
            "1                 NaN               3.0      5-6 hours      Unhealthy  B.Com   \n",
            "2                 NaN               3.0      5-6 hours       Moderate  M.Com   \n",
            "3                 NaN               5.0      7-8 hours        Healthy     MD   \n",
            "4                 NaN               3.0      7-8 hours       Moderate     BE   \n",
            "\n",
            "  Have you ever had suicidal thoughts ?  Work/Study Hours  Financial Stress  \\\n",
            "0                                    No                 6                 2   \n",
            "1                                   Yes                 0                 4   \n",
            "2                                    No                 0                 2   \n",
            "3                                   Yes                 1                 2   \n",
            "4                                   Yes                 6                 5   \n",
            "\n",
            "  Family History of Mental Illness Depression  \n",
            "0                               No         No  \n",
            "1                              Yes         No  \n",
            "2                               No         No  \n",
            "3                              Yes         No  \n",
            "4                              Yes         No  \n",
            "Unique values in 'Work/Study Hours': [ 6  0  1 12  3 11 10  8  7  9  5  2  4]\n"
          ]
        }
      ]
    },
    {
      "cell_type": "code",
      "source": [
        "# Convert categorical columns to numerical without introducing NaN\n",
        "hour_mapping = {'Less than 5 hours': 4, '5-6 hours': 5, '7-8 hours': 7, 'More than 8 hours': 9}\n",
        "diet_mapping = {'Unhealthy': 1, 'Moderate': 2, 'Healthy': 3}\n",
        "yes_no_mapping = {'Yes': 1, 'No': 0}"
      ],
      "metadata": {
        "id": "oMaoZ6D2K1Rk"
      },
      "execution_count": 63,
      "outputs": []
    },
    {
      "cell_type": "code",
      "source": [
        "# Apply mappings and handle unmatched values by keeping them as is or mapping to a default\n",
        "df['Work/Study Hours'] = df['Work/Study Hours'].map(hour_mapping).fillna(df['Work/Study Hours'])  # Keep original if unmapped\n",
        "df['Dietary Habits'] = df['Dietary Habits'].map(diet_mapping).fillna(df['Dietary Habits'])\n",
        "df['Family History of Mental Illness'] = df['Family History of Mental Illness'].map(yes_no_mapping).fillna(df['Family History of Mental Illness'])\n",
        "df['Depression'] = df['Depression'].map(yes_no_mapping).fillna(df['Depression'])"
      ],
      "metadata": {
        "id": "oTR_bzq6K13S"
      },
      "execution_count": 64,
      "outputs": []
    },
    {
      "cell_type": "code",
      "source": [
        "# Handle 'Sleep Duration' if it exists and contains strings\n",
        "if 'Sleep Duration' in df.columns and df['Sleep Duration'].dtype == 'object':\n",
        "    sleep_mapping = {'Less than 5 hours': 4, '5-6 hours': 5, '7-8 hours': 7, 'More than 8 hours': 9}\n",
        "    df['Sleep Duration'] = df['Sleep Duration'].map(sleep_mapping).fillna(df['Sleep Duration'])"
      ],
      "metadata": {
        "id": "ZmW8Oif4K5VO"
      },
      "execution_count": 65,
      "outputs": []
    },
    {
      "cell_type": "code",
      "source": [
        "# Define features and target\n",
        "features = ['Age', 'Work/Study Hours', 'Financial Stress', 'Family History of Mental Illness',\n",
        "            'Academic Pressure', 'Work Pressure', 'CGPA', 'Study Satisfaction', 'Job Satisfaction',\n",
        "            'Sleep Duration', 'Dietary Habits']\n",
        "target = 'Depression'"
      ],
      "metadata": {
        "id": "FHrzWmfOK8eX"
      },
      "execution_count": 66,
      "outputs": []
    },
    {
      "cell_type": "code",
      "source": [
        "# Handle missing or non-numeric values with mode, but only for specific columns\n",
        "for column in ['Academic Pressure', 'Work Pressure', 'CGPA', 'Study Satisfaction', 'Job Satisfaction']:\n",
        "    df[column] = pd.to_numeric(df[column], errors='coerce')\n",
        "    df[column].fillna(0, inplace=True)  # Fill NaN with 0 only for these columns"
      ],
      "metadata": {
        "colab": {
          "base_uri": "https://localhost:8080/"
        },
        "id": "d18tvXxUK-1I",
        "outputId": "3faeae38-78a1-4a76-8fa4-09ef272773e9"
      },
      "execution_count": 67,
      "outputs": [
        {
          "output_type": "stream",
          "name": "stderr",
          "text": [
            "/tmp/ipython-input-1548736329.py:4: FutureWarning: A value is trying to be set on a copy of a DataFrame or Series through chained assignment using an inplace method.\n",
            "The behavior will change in pandas 3.0. This inplace method will never work because the intermediate object on which we are setting values always behaves as a copy.\n",
            "\n",
            "For example, when doing 'df[col].method(value, inplace=True)', try using 'df.method({col: value}, inplace=True)' or df[col] = df[col].method(value) instead, to perform the operation inplace on the original object.\n",
            "\n",
            "\n",
            "  df[column].fillna(0, inplace=True)  # Fill NaN with 0 only for these columns\n"
          ]
        }
      ]
    },
    {
      "cell_type": "code",
      "source": [
        "# Verify the pre-processed data\n",
        "print(\"\\nData types after pre-processing:\")\n",
        "print(df[features].dtypes)\n",
        "print(\"\\nSample data after pre-processing:\")\n",
        "print(df[features].head())"
      ],
      "metadata": {
        "colab": {
          "base_uri": "https://localhost:8080/"
        },
        "id": "guIRnpTuLDP_",
        "outputId": "af773c70-94bf-4252-b256-bea2993b1534"
      },
      "execution_count": 68,
      "outputs": [
        {
          "output_type": "stream",
          "name": "stdout",
          "text": [
            "\n",
            "Data types after pre-processing:\n",
            "Age                                   int64\n",
            "Work/Study Hours                    float64\n",
            "Financial Stress                      int64\n",
            "Family History of Mental Illness      int64\n",
            "Academic Pressure                   float64\n",
            "Work Pressure                       float64\n",
            "CGPA                                float64\n",
            "Study Satisfaction                  float64\n",
            "Job Satisfaction                    float64\n",
            "Sleep Duration                        int64\n",
            "Dietary Habits                        int64\n",
            "dtype: object\n",
            "\n",
            "Sample data after pre-processing:\n",
            "   Age  Work/Study Hours  Financial Stress  Family History of Mental Illness  \\\n",
            "0   37               6.0                 2                                 0   \n",
            "1   60               0.0                 4                                 1   \n",
            "2   42               0.0                 2                                 0   \n",
            "3   44               1.0                 2                                 1   \n",
            "4   48               6.0                 5                                 1   \n",
            "\n",
            "   Academic Pressure  Work Pressure  CGPA  Study Satisfaction  \\\n",
            "0                0.0            2.0   0.0                 0.0   \n",
            "1                0.0            4.0   0.0                 0.0   \n",
            "2                0.0            2.0   0.0                 0.0   \n",
            "3                0.0            3.0   0.0                 0.0   \n",
            "4                0.0            4.0   0.0                 0.0   \n",
            "\n",
            "   Job Satisfaction  Sleep Duration  Dietary Habits  \n",
            "0               4.0               7               2  \n",
            "1               3.0               5               1  \n",
            "2               3.0               5               2  \n",
            "3               5.0               7               3  \n",
            "4               3.0               7               2  \n"
          ]
        }
      ]
    },
    {
      "cell_type": "code",
      "source": [
        "# Prepare data\n",
        "X = df[features]\n",
        "y = df[target]\n",
        "\n",
        "# Check if X and y have data\n",
        "if X.empty or y.empty:\n",
        "    print(\"Error: X or y is empty. Check the dataset and feature selection.\")\n",
        "    exit()"
      ],
      "metadata": {
        "id": "bySoOYm-LFdZ"
      },
      "execution_count": 69,
      "outputs": []
    },
    {
      "cell_type": "code",
      "source": [
        "# Split data\n",
        "X_train, X_test, y_train, y_test = train_test_split(X, y, test_size=0.2, random_state=42)"
      ],
      "metadata": {
        "id": "G-H2t5MGLGHA"
      },
      "execution_count": 70,
      "outputs": []
    },
    {
      "cell_type": "code",
      "source": [
        "# Method 1: Filter Method - Chi-Squared Test\n",
        "# Ensure non-negative values for Chi-Squared\n",
        "X_chi = X - X.min() + 1e-6\n",
        "selector_chi = SelectKBest(score_func=chi2, k=3)\n",
        "selector_chi.fit(X_chi, y)\n",
        "chi_features = X.columns[selector_chi.get_support()].tolist()\n",
        "print(\"Filter Method - Chi-Squared Test:\")\n",
        "print(f\"Selected Features: {chi_features}\")\n",
        "print(\"Explanation: Chi-Squared tests the independence of features with the target. It selects the top 3 features based on their statistical significance, requiring non-negative values.\")\n",
        "\n",
        "# Plot for Chi-Squared\n",
        "plt.figure(figsize=(8, 5))\n",
        "sns.barplot(x=chi_scores, y=chi_features, palette=\"viridis\")\n",
        "plt.title('Chi-Squared Feature Selection Scores')\n",
        "plt.xlabel('Chi-Squared Score')\n",
        "plt.ylabel('Features')\n",
        "plt.tight_layout()\n",
        "plt.show()"
      ],
      "metadata": {
        "colab": {
          "base_uri": "https://localhost:8080/",
          "height": 672
        },
        "id": "AhTQcAOrOZEb",
        "outputId": "08b83043-1cd2-48b1-f1d1-776a8becf28b"
      },
      "execution_count": 85,
      "outputs": [
        {
          "output_type": "stream",
          "name": "stdout",
          "text": [
            "Filter Method - Chi-Squared Test:\n",
            "Selected Features: ['Age', 'Academic Pressure', 'CGPA']\n",
            "Explanation: Chi-Squared tests the independence of features with the target. It selects the top 3 features based on their statistical significance, requiring non-negative values.\n"
          ]
        },
        {
          "output_type": "stream",
          "name": "stderr",
          "text": [
            "/tmp/ipython-input-319871981.py:13: FutureWarning: \n",
            "\n",
            "Passing `palette` without assigning `hue` is deprecated and will be removed in v0.14.0. Assign the `y` variable to `hue` and set `legend=False` for the same effect.\n",
            "\n",
            "  sns.barplot(x=chi_scores, y=chi_features, palette=\"viridis\")\n"
          ]
        },
        {
          "output_type": "display_data",
          "data": {
            "text/plain": [
              "<Figure size 800x500 with 1 Axes>"
            ],
            "image/png": "[encoded data removed]"
          },
          "metadata": {}
        }
      ]
    },
    {
      "cell_type": "code",
      "source": [
        "# Method 2: Wrapper Method - Recursive Feature Elimination (RFE) with Logistic Regression\n",
        "model_rfe = LogisticRegression(random_state=42, max_iter=1000)\n",
        "rfe = RFE(estimator=model_rfe, n_features_to_select=3, step=1)\n",
        "rfe.fit(X_train, y_train)\n",
        "rfe_features = X.columns[rfe.support_].tolist()\n",
        "print(\"\\nWrapper Method - Recursive Feature Elimination (RFE):\")\n",
        "print(f\"Selected Features: {rfe_features}\")\n",
        "print(\"Explanation: RFE recursively removes the least important features using a model (Logistic Regression here). It evaluates feature subsets by training the model and selects the top 3 based on performance.\")\n",
        "\n",
        "# Plot for RFE (using ranking for all features, inverted for importance)\n",
        "rfe_importance = len(features) + 1 - rfe_ranking  # Invert ranking to show importance\n",
        "rfe_df = pd.DataFrame({'Feature': features, 'Importance': rfe_importance})\n",
        "rfe_df = rfe_df.sort_values('Importance', ascending=False)\n",
        "\n",
        "plt.figure(figsize=(8, 5))\n",
        "sns.barplot(x='Importance', y='Feature', data=rfe_df[rfe_df['Feature'].isin(rfe_features)], palette=\"rocket\")\n",
        "plt.title('RFE Feature Importance (Ranking)')\n",
        "plt.xlabel('Importance (Inverse Ranking)')\n",
        "plt.ylabel('Features')\n",
        "plt.tight_layout()\n",
        "plt.show()"
      ],
      "metadata": {
        "colab": {
          "base_uri": "https://localhost:8080/",
          "height": 690
        },
        "id": "V7zf2fAeSLdD",
        "outputId": "d7abecbf-a14e-4159-f665-2b6a20676568"
      },
      "execution_count": 86,
      "outputs": [
        {
          "output_type": "stream",
          "name": "stdout",
          "text": [
            "\n",
            "Wrapper Method - Recursive Feature Elimination (RFE):\n",
            "Selected Features: ['Financial Stress', 'Academic Pressure', 'Work Pressure']\n",
            "Explanation: RFE recursively removes the least important features using a model (Logistic Regression here). It evaluates feature subsets by training the model and selects the top 3 based on performance.\n"
          ]
        },
        {
          "output_type": "stream",
          "name": "stderr",
          "text": [
            "/tmp/ipython-input-3931095391.py:16: FutureWarning: \n",
            "\n",
            "Passing `palette` without assigning `hue` is deprecated and will be removed in v0.14.0. Assign the `y` variable to `hue` and set `legend=False` for the same effect.\n",
            "\n",
            "  sns.barplot(x='Importance', y='Feature', data=rfe_df[rfe_df['Feature'].isin(rfe_features)], palette=\"rocket\")\n"
          ]
        },
        {
          "output_type": "display_data",
          "data": {
            "text/plain": [
              "<Figure size 800x500 with 1 Axes>"
            ],
            "image/png": "[encoded data removed]"
          },
          "metadata": {}
        }
      ]
    },
    {
      "cell_type": "code",
      "source": [
        "# Method 3: Embedded Method - L1-based Feature Selection (Lasso) with Logistic Regression\n",
        "model_l1 = LogisticRegression(penalty='l1', solver='liblinear', random_state=42, max_iter=1000)\n",
        "model_l1.fit(X_train, y_train)\n",
        "l1_features = X.columns[model_l1.coef_[0] != 0].tolist()\n",
        "# Ensure at least 3 features, pad with lowest coefficients if needed\n",
        "if len(l1_features) < 3:\n",
        "    coef_abs = np.abs(model_l1.coef_[0])\n",
        "    additional_features = [X.columns[i] for i in np.argsort(coef_abs)[:- (3 - len(l1_features)) - 1:-1] if X.columns[i] not in l1_features]\n",
        "    l1_features.extend(additional_features[:3 - len(l1_features)])\n",
        "l1_features = l1_features[:3]\n",
        "print(\"\\nEmbedded Method - L1-based Feature Selection (Lasso):\")\n",
        "print(f\"Selected Features: {l1_features}\")\n",
        "print(\"Explanation: L1 regularization (Lasso) penalizes less important features to zero, embedding feature selection within the model training. The top 3 non-zero coefficient features are selected.\")\n",
        "\n",
        "# Plot for L1 (using absolute coefficients)\n",
        "l1_df = pd.DataFrame({'Feature': l1_features, 'Coefficient': l1_coefficients})\n",
        "plt.figure(figsize=(8, 5))\n",
        "sns.barplot(x='Coefficient', y='Feature', data=l1_df, palette=\"magma\")\n",
        "plt.title('L1 Feature Selection Coefficients')\n",
        "plt.xlabel('Absolute Coefficient Magnitude')\n",
        "plt.ylabel('Features')\n",
        "plt.tight_layout()\n",
        "plt.show()"
      ],
      "metadata": {
        "colab": {
          "base_uri": "https://localhost:8080/",
          "height": 690
        },
        "id": "JgjvWkZcSOpm",
        "outputId": "726b44b3-b150-4dd0-8bb3-c46e46f24be3"
      },
      "execution_count": 87,
      "outputs": [
        {
          "output_type": "stream",
          "name": "stdout",
          "text": [
            "\n",
            "Embedded Method - L1-based Feature Selection (Lasso):\n",
            "Selected Features: ['Age', 'Financial Stress', 'Family History of Mental Illness']\n",
            "Explanation: L1 regularization (Lasso) penalizes less important features to zero, embedding feature selection within the model training. The top 3 non-zero coefficient features are selected.\n"
          ]
        },
        {
          "output_type": "stream",
          "name": "stderr",
          "text": [
            "/tmp/ipython-input-36320100.py:18: FutureWarning: \n",
            "\n",
            "Passing `palette` without assigning `hue` is deprecated and will be removed in v0.14.0. Assign the `y` variable to `hue` and set `legend=False` for the same effect.\n",
            "\n",
            "  sns.barplot(x='Coefficient', y='Feature', data=l1_df, palette=\"magma\")\n"
          ]
        },
        {
          "output_type": "display_data",
          "data": {
            "text/plain": [
              "<Figure size 800x500 with 1 Axes>"
            ],
            "image/png": "[encoded data removed]"
          },
          "metadata": {}
        }
      ]
    },
    {
      "cell_type": "code",
      "source": [
        "# Evaluate all methods\n",
        "def evaluate_method(selected_features):\n",
        "    X_train_selected = X_train[selected_features]\n",
        "    X_test_selected = X_test[selected_features]\n",
        "    model = LogisticRegression(random_state=42, max_iter=1000)\n",
        "    model.fit(X_train_selected, y_train)\n",
        "    y_pred = model.predict(X_test_selected)\n",
        "    return accuracy_score(y_test, y_pred)\n",
        "\n",
        "chi_accuracy = evaluate_method(chi_features)\n",
        "rfe_accuracy = evaluate_method(rfe_features)\n",
        "l1_accuracy = evaluate_method(l1_features)\n",
        "print(f\"\\nAccuracy with Chi-Squared Features: {chi_accuracy:.2f}\")\n",
        "print(f\"Accuracy with RFE Features: {rfe_accuracy:.2f}\")\n",
        "print(f\"Accuracy with L1 Features: {l1_accuracy:.2f}\")\n",
        "\n",
        "# Determine best method\n",
        "best_method = max([('Chi-Squared', chi_accuracy), ('RFE', rfe_accuracy), ('L1', l1_accuracy)], key=lambda x: x[1])[0]\n",
        "best_accuracy = max(chi_accuracy, rfe_accuracy, l1_accuracy)\n",
        "print(f\"\\nBest Method: {best_method} with accuracy {best_accuracy:.2f}\")"
      ],
      "metadata": {
        "colab": {
          "base_uri": "https://localhost:8080/"
        },
        "id": "A-ULgn36SSBs",
        "outputId": "3a902abc-5381-4157-b147-3079d9772c29"
      },
      "execution_count": 89,
      "outputs": [
        {
          "output_type": "stream",
          "name": "stdout",
          "text": [
            "\n",
            "Accuracy with Chi-Squared Features: 0.88\n",
            "Accuracy with RFE Features: 0.88\n",
            "Accuracy with L1 Features: 0.86\n",
            "\n",
            "Best Method: RFE with accuracy 0.88\n"
          ]
        }
      ]
    }
  ]
}